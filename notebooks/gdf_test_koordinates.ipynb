{
 "cells": [
  {
   "cell_type": "code",
   "execution_count": 1,
   "id": "e57f0245",
   "metadata": {},
   "outputs": [
    {
     "name": "stdout",
     "output_type": "stream",
     "text": [
      "Hello\n"
     ]
    }
   ],
   "source": [
    "#My VS Code has issues connecting to the venv.\n",
    "# I find that first connecting to one of my conda environments\n",
    "# and then switching to the venv works.\n",
    "# I run this cell on conda environment first then switch to venv\n",
    "# and run it there and seems to be all good.\n",
    "print(\"Hello\")"
   ]
  },
  {
   "cell_type": "code",
   "execution_count": 2,
   "id": "a8640a1f",
   "metadata": {},
   "outputs": [],
   "source": [
    "# This cell allows hot reloading of modules.\n",
    "# It is useful for development, so you don't have to restart the kernel.\n",
    "# Some changes such as adding new files or changing the structure of the code\n",
    "# may not be picked up and will require a kernel restart.\n",
    "%load_ext autoreload\n",
    "%autoreload 2"
   ]
  },
  {
   "cell_type": "markdown",
   "id": "cb934ce3",
   "metadata": {},
   "source": [
    "# Testing LINZ with GeoPandas  \n",
    "This notebook is for testing a python environment that has GeoPandas installed, using LINZ as the testing portal.  \n",
    "\n",
    "This notebook expects GeoPandas and not the arcgis module. This will force the default data types to use GeoDataFrames.  "
   ]
  },
  {
   "cell_type": "code",
   "execution_count": 15,
   "id": "b283ef9b",
   "metadata": {},
   "outputs": [
    {
     "name": "stdout",
     "output_type": "stream",
     "text": [
      "has_arcgis=False\n",
      "has_arcpy=False\n",
      "has_geopandas=True\n"
     ]
    }
   ],
   "source": [
    "import os\n",
    "import json\n",
    "import time\n",
    "import geopandas as gpd\n",
    "from dotenv import load_dotenv, find_dotenv\n",
    "import logging\n",
    "\n",
    "# Set up logging include logger name\n",
    "logging.basicConfig(level=logging.INFO, format='%(asctime)s - %(name)s - %(levelname)s - %(message)s')\n",
    "\n",
    "from kapipy.gis import GISK\n",
    "from kapipy.gis import has_geopandas, has_arcgis, has_arcpy\n",
    "\n",
    "# find .env automagically by walking up directories until it's found\n",
    "dotenv_path = find_dotenv()\n",
    "load_dotenv(dotenv_path)\n",
    "api_key = os.getenv('KOORDINATES_API_KEY')\n",
    "\n",
    "output_folder = r\"c:\\temp\\data\"\n",
    "\n",
    "#layers\n",
    "nz_police_station_boundaries_2021 = \"105482\" #284 polygons\n",
    "nz_property_titles = \"50804\" #24.M polygons\n",
    "\n",
    "#tables\n",
    "nz_properties_national_district_valuation_roll = \"114085\" #246K records\n",
    "\n",
    "print(f'{has_arcgis=}')\n",
    "print(f'{has_arcpy=}')\n",
    "print(f'{has_geopandas=}')\n",
    "\n",
    "assert(has_geopandas == True)\n",
    "assert(has_arcgis == False)\n"
   ]
  },
  {
   "cell_type": "markdown",
   "id": "9a030666",
   "metadata": {},
   "source": [
    "## Server object  \n",
    "Get a reference to the LINZ server  "
   ]
  },
  {
   "cell_type": "code",
   "execution_count": 16,
   "id": "ea57fc48",
   "metadata": {},
   "outputs": [
    {
     "name": "stdout",
     "output_type": "stream",
     "text": [
      "GISK: Custom at https://koordinates.com/ (API v1.x)\n"
     ]
    }
   ],
   "source": [
    "k = GISK(url=\"https://koordinates.com/\", api_key=api_key)\n",
    "print(k)"
   ]
  },
  {
   "cell_type": "markdown",
   "id": "f49391ea",
   "metadata": {},
   "source": [
    "## Layer item  \n",
    "Run some tests on a layer item  "
   ]
  },
  {
   "cell_type": "code",
   "execution_count": 17,
   "id": "e3c38ecf",
   "metadata": {},
   "outputs": [
    {
     "name": "stderr",
     "output_type": "stream",
     "text": [
      "2025-06-12 17:21:57,820 - httpx - INFO - HTTP Request: GET https://koordinates.com/services/api/v1.x/data/?id=50804 \"HTTP/1.1 200 OK\"\n"
     ]
    },
    {
     "name": "stdout",
     "output_type": "stream",
     "text": [
      "None\n"
     ]
    }
   ],
   "source": [
    "itm = k.content.get(nz_property_titles)\n",
    "print(itm)"
   ]
  },
  {
   "cell_type": "code",
   "execution_count": 7,
   "id": "9107018c",
   "metadata": {},
   "outputs": [
    {
     "ename": "AttributeError",
     "evalue": "'NoneType' object has no attribute 'supports_changesets'",
     "output_type": "error",
     "traceback": [
      "\u001b[31m---------------------------------------------------------------------------\u001b[39m",
      "\u001b[31mAttributeError\u001b[39m                            Traceback (most recent call last)",
      "\u001b[36mCell\u001b[39m\u001b[36m \u001b[39m\u001b[32mIn[7]\u001b[39m\u001b[32m, line 1\u001b[39m\n\u001b[32m----> \u001b[39m\u001b[32m1\u001b[39m \u001b[38;5;28mprint\u001b[39m(\u001b[33mf\u001b[39m\u001b[33m'\u001b[39m\u001b[38;5;132;01m{\u001b[39;00m\u001b[43mitm\u001b[49m\u001b[43m.\u001b[49m\u001b[43msupports_changesets\u001b[49m\u001b[38;5;132;01m=}\u001b[39;00m\u001b[33m'\u001b[39m)\n\u001b[32m      2\u001b[39m \u001b[38;5;28mprint\u001b[39m(\u001b[33mf\u001b[39m\u001b[33m'\u001b[39m\u001b[38;5;132;01m{\u001b[39;00mitm.data.fields\u001b[38;5;132;01m=}\u001b[39;00m\u001b[33m'\u001b[39m)\n\u001b[32m      3\u001b[39m \u001b[38;5;28mprint\u001b[39m(\u001b[33mf\u001b[39m\u001b[33m'\u001b[39m\u001b[38;5;132;01m{\u001b[39;00mitm.data.crs\u001b[38;5;132;01m=}\u001b[39;00m\u001b[33m'\u001b[39m)\n",
      "\u001b[31mAttributeError\u001b[39m: 'NoneType' object has no attribute 'supports_changesets'"
     ]
    }
   ],
   "source": [
    "print(f'{itm.supports_changesets=}')\n",
    "print(f'{itm.data.fields=}')\n",
    "print(f'{itm.data.crs=}')\n",
    "print(f'{itm.data.geometry_type=}')"
   ]
  },
  {
   "cell_type": "code",
   "execution_count": null,
   "id": "6ad11ca9",
   "metadata": {},
   "outputs": [],
   "source": [
    "waikato_polygon = gpd.read_file('../examples/waikato.json')\n",
    "print(waikato_polygon)\n",
    "\n",
    "# read shapefile into a GeoDataFrame\n",
    "matamata_gdf = gpd.read_file(\"../examples/matamata_piako.shp\")\n",
    "matamata_gdf.head()"
   ]
  },
  {
   "cell_type": "code",
   "execution_count": null,
   "id": "bd8bfe7c",
   "metadata": {},
   "outputs": [],
   "source": [
    "#Query using WFS and bbox_geometry\n",
    "res = itm.query(\n",
    "    result_record_count=1001,\n",
    "    out_fields=['id', 'geodetic_code'],\n",
    "    out_sr = 2193, \n",
    "    bbox_geometry=matamata_gdf)\n",
    "logging.info(f\"Total records returned {itm.title}: {res.shape[0]}\")\n",
    "res.head()"
   ]
  },
  {
   "cell_type": "code",
   "execution_count": null,
   "id": "ef710268",
   "metadata": {},
   "outputs": [],
   "source": [
    "#Query using WFS and filter_geometry\n",
    "res = itm.query(\n",
    "    #out_fields=['id', 'geodetic_code', itm.data.geometry_field],\n",
    "    out_sr = 2193, \n",
    "    filter_geometry=matamata_gdf)\n",
    "logging.info(f\"Total records returned {itm.title}: {res.shape[0]}\")\n",
    "res.head()"
   ]
  },
  {
   "cell_type": "code",
   "execution_count": null,
   "id": "71a90069",
   "metadata": {},
   "outputs": [],
   "source": [
    "#Query using WFS and bbox_geometry\n",
    "res = itm.query(\n",
    "    out_sr = 2193, \n",
    "    bbox_geometry=matamata_gdf)\n",
    "logging.info(f\"Total records returned {itm.title}: {res.shape[0]}\")\n",
    "res.head()"
   ]
  },
  {
   "cell_type": "code",
   "execution_count": null,
   "id": "72ce1e8d",
   "metadata": {},
   "outputs": [],
   "source": [
    "# Get a changeset from the layer using WFS and bbox_geometry\n",
    "cs_data = itm.changeset(\n",
    "    from_time=\"2024-01-01T00:00:00Z\", \n",
    "    out_sr=2193,\n",
    "    #out_fields=['id', 'geodetic_code'],\n",
    "    bbox_geometry=matamata_gdf\n",
    "    )\n",
    "logging.info(f\"Total records returned {itm.title}: {cs_data.shape[0]}\")\n",
    "cs_data.head()"
   ]
  },
  {
   "cell_type": "code",
   "execution_count": null,
   "id": "b9cbdbdd",
   "metadata": {},
   "outputs": [],
   "source": [
    "# Get a changeset from the layer using WFS and filter_geometry\n",
    "cs_data = itm.changeset(\n",
    "    from_time=\"2024-01-01T00:00:00Z\", \n",
    "    out_sr=2193,\n",
    "    #out_fields=['id', 'geodetic_code'],\n",
    "    filter_geometry=matamata_gdf\n",
    "    )\n",
    "logging.info(f\"Total records returned {itm.title}: {cs_data.shape[0]}\")\n",
    "cs_data.head()"
   ]
  },
  {
   "cell_type": "code",
   "execution_count": null,
   "id": "78164210",
   "metadata": {},
   "outputs": [],
   "source": [
    "job = itm.export(\"geodatabase\", out_sr=2193, extent=waikato_polygon)"
   ]
  },
  {
   "cell_type": "code",
   "execution_count": null,
   "id": "c65b3d21",
   "metadata": {},
   "outputs": [],
   "source": [
    "print(job.status)"
   ]
  },
  {
   "cell_type": "code",
   "execution_count": null,
   "id": "e463f8e5",
   "metadata": {},
   "outputs": [],
   "source": [
    "dl = job.download(folder=output_folder)\n",
    "print(dl)"
   ]
  },
  {
   "cell_type": "code",
   "execution_count": null,
   "id": "cb109b72",
   "metadata": {},
   "outputs": [],
   "source": [
    "print(f'{dl.folder=}')\n",
    "print(f'{dl.filename=}')\n",
    "print(f'{dl.file_path=}')\n",
    "print(f'{dl.file_size_bytes=}')\n",
    "print(f'{dl.download_url=}')\n",
    "print(f'{dl.final_url=}')\n",
    "print(f'{dl.job_id=}')\n",
    "print(f'{dl.completed_at=}')\n",
    "print(f'{dl.checksum=}')"
   ]
  },
  {
   "cell_type": "markdown",
   "id": "55e4fb08",
   "metadata": {},
   "source": [
    "## Table item  \n",
    "Run some tests on a table item"
   ]
  },
  {
   "cell_type": "code",
   "execution_count": null,
   "id": "65406819",
   "metadata": {},
   "outputs": [],
   "source": [
    "table_itm = linz.content.get(suburb_locality_table_id)\n",
    "print(table_itm)"
   ]
  },
  {
   "cell_type": "code",
   "execution_count": null,
   "id": "91c94535",
   "metadata": {},
   "outputs": [],
   "source": [
    "print(f'{table_itm.supports_changesets=}')\n",
    "print(f'{table_itm.data.fields=}')"
   ]
  },
  {
   "cell_type": "code",
   "execution_count": null,
   "id": "03112e71",
   "metadata": {},
   "outputs": [],
   "source": [
    "#Query using WFS to get DataFrame\n",
    "data = table_itm.query(count=100)\n",
    "logging.info(f\"Total records returned {table_itm.title}: {data.shape[0]}\")\n",
    "data.head()"
   ]
  },
  {
   "cell_type": "code",
   "execution_count": null,
   "id": "ef5955b3",
   "metadata": {},
   "outputs": [],
   "source": [
    "#Query using WFS to get raw JSON\n",
    "data = table_itm.query_json(count=10)\n",
    "logging.info(f\"Total records returned {table_itm.title}: {len(data['features'])}\")\n",
    "print(data)"
   ]
  },
  {
   "cell_type": "code",
   "execution_count": null,
   "id": "6fc9fb89",
   "metadata": {},
   "outputs": [],
   "source": [
    "# Get a changeset from the layer using WFS\n",
    "cs_data = table_itm.get_changeset(from_time=\"2024-01-01T00:00:00Z\", count=100)\n",
    "logging.info(f\"Total records returned {table_itm.title}: {cs_data.shape[0]}\")\n",
    "cs_data.head()"
   ]
  },
  {
   "cell_type": "code",
   "execution_count": null,
   "id": "01d5cd06",
   "metadata": {},
   "outputs": [],
   "source": [
    "# Get a changeset from the layer using WFS\n",
    "cs_data = table_itm.get_changeset_json(from_time=\"2024-01-01T00:00:00Z\", count=10)\n",
    "logging.info(f\"Total records returned {table_itm.title}: {len(cs_data['features'])}\")\n",
    "print(cs_data)"
   ]
  },
  {
   "cell_type": "code",
   "execution_count": null,
   "id": "212b7602",
   "metadata": {},
   "outputs": [],
   "source": [
    "job = table_itm.export(\"geodatabase\")"
   ]
  },
  {
   "cell_type": "code",
   "execution_count": null,
   "id": "830e59c5",
   "metadata": {},
   "outputs": [],
   "source": [
    "print(job)"
   ]
  },
  {
   "cell_type": "code",
   "execution_count": null,
   "id": "a7d95d52",
   "metadata": {},
   "outputs": [],
   "source": [
    "job.download(folder=output_folder)"
   ]
  },
  {
   "cell_type": "markdown",
   "id": "f17b6acc",
   "metadata": {},
   "source": [
    "## Test multidownload samples  \n",
    "Test downloading multiple jobs using the ContentManager download method.    "
   ]
  },
  {
   "cell_type": "code",
   "execution_count": null,
   "id": "f3b6bef7",
   "metadata": {},
   "outputs": [],
   "source": [
    "itm1 = linz.content.get(geodetic_marks_layer_id)\n",
    "itm2 = linz.content.get(rail_station_layer_id)\n",
    "print(itm1)\n",
    "print(itm2)"
   ]
  },
  {
   "cell_type": "code",
   "execution_count": null,
   "id": "ca815c4f",
   "metadata": {},
   "outputs": [],
   "source": [
    "job1 = itm1.export(\"geodatabase\", wkid=2193, extent=matamata_gdf,)\n",
    "job2 = itm2.export(\"geodatabase\", wkid=2193, extent=matamata_gdf,)\n",
    "\n",
    "output_folder = r\"c:\\temp\\data\\multiple\"\n",
    "results = linz.content.download(jobs=[job1, job2], folder=output_folder)"
   ]
  },
  {
   "cell_type": "code",
   "execution_count": null,
   "id": "5810a1c2",
   "metadata": {},
   "outputs": [],
   "source": [
    "for result in results:\n",
    "    print(result.download_file_path)\n"
   ]
  }
 ],
 "metadata": {
  "kernelspec": {
   "display_name": ".venv",
   "language": "python",
   "name": "python3"
  },
  "language_info": {
   "codemirror_mode": {
    "name": "ipython",
    "version": 3
   },
   "file_extension": ".py",
   "mimetype": "text/x-python",
   "name": "python",
   "nbconvert_exporter": "python",
   "pygments_lexer": "ipython3",
   "version": "3.13.3"
  }
 },
 "nbformat": 4,
 "nbformat_minor": 5
}
