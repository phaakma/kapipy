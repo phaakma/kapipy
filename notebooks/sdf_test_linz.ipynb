{
 "cells": [
  {
   "cell_type": "code",
   "execution_count": null,
   "id": "e57f0245",
   "metadata": {},
   "outputs": [],
   "source": [
    "# My VS Code has issues connecting to the venv.\n",
    "# I find that first connecting to one of my conda environments\n",
    "# and then switching to the venv works.\n",
    "# I run this cell on conda environment first then switch to venv\n",
    "# and run it there and seems to be all good.\n",
    "print(\"Hello\")"
   ]
  },
  {
   "cell_type": "code",
   "execution_count": null,
   "id": "a8640a1f",
   "metadata": {},
   "outputs": [],
   "source": [
    "# This cell allows hot reloading of modules.\n",
    "# It is useful for development, so you don't have to restart the kernel.\n",
    "# Some changes such as adding new files or changing the structure of the code\n",
    "# may not be picked up and will require a kernel restart.\n",
    "%load_ext autoreload\n",
    "%autoreload 2"
   ]
  },
  {
   "cell_type": "markdown",
   "id": "aca59d3f",
   "metadata": {},
   "source": [
    "# Testing LINZ with Arcgis  \n",
    "This notebook is for testing a python environment that has the ArcGIS API for Python installed, using LINZ as the testing portal.  \n",
    "\n",
    "This notebook expects arcgis and not the geopandas module. This will force the data types to use the Spatially Enabled DataFrame (sdf).  "
   ]
  },
  {
   "cell_type": "code",
   "execution_count": null,
   "id": "b283ef9b",
   "metadata": {},
   "outputs": [],
   "source": [
    "import os\n",
    "import json\n",
    "import time\n",
    "from dotenv import load_dotenv, find_dotenv\n",
    "from importlib.metadata import version, PackageNotFoundError\n",
    "import logging\n",
    "\n",
    "# Set up logging include logger name\n",
    "logging.basicConfig(\n",
    "    level=logging.INFO, format=\"%(asctime)s - %(name)s - %(levelname)s - %(message)s\"\n",
    ")\n",
    "logger = logging.getLogger(__name__)\n",
    "\n",
    "from kapipy.gis import GISK\n",
    "from kapipy.gis import has_geopandas, has_arcgis, has_arcpy\n",
    "\n",
    "if has_arcgis:\n",
    "    import pandas as pd\n",
    "    from arcgis.features import GeoAccessor, GeoSeriesAccessor\n",
    "    from arcgis.gis import GIS\n",
    "\n",
    "# find .env automagically by walking up directories until it's found\n",
    "dotenv_path = find_dotenv()\n",
    "load_dotenv(dotenv_path)\n",
    "api_key = os.getenv(\"LINZ_API_KEY\")\n",
    "\n",
    "output_folder = r\"c:\\temp\\data\"\n",
    "\n",
    "# layers\n",
    "rail_station_layer_id = \"50318\"  # rail station 175 points\n",
    "fences_layer_id = \"50268\"  # NZ Fence Centrelines\n",
    "geodetic_marks_layer_id = \"50787\"  # NZ Geodetic Marks 132,966 point features\n",
    "nz_walking_biking_tracks_layer_id = (\n",
    "    \"52100\"  # NZ Walking and Biking Tracks 29,187 polyline features\n",
    ")\n",
    "\n",
    "# tables\n",
    "nz_building_age_table_id = \"105617\"  # NZ Building Age 18 records, no changeset\n",
    "suburb_locality_table_id = \"113761\"  # NZ Suburb Locality 3190 records\n",
    "\n",
    "package_name = \"kapipy\"\n",
    "\n",
    "try:\n",
    "    pkg_version = version(package_name)\n",
    "    print(f\"{package_name} version: {pkg_version}\")\n",
    "except PackageNotFoundError:\n",
    "    print(f\"{package_name} is not installed\")\n",
    "\n",
    "print(f\"{has_arcgis=}\")\n",
    "print(f\"{has_arcpy=}\")\n",
    "print(f\"{has_geopandas=}\")\n",
    "\n",
    "assert has_geopandas == False\n",
    "assert has_arcgis == True"
   ]
  },
  {
   "cell_type": "markdown",
   "id": "9a030666",
   "metadata": {},
   "source": [
    "## Server object  \n",
    "Get a reference to the LINZ server  "
   ]
  },
  {
   "cell_type": "code",
   "execution_count": null,
   "id": "ea57fc48",
   "metadata": {},
   "outputs": [],
   "source": [
    "linz = GISK(name=\"linz\", api_key=api_key)\n",
    "print(linz)"
   ]
  },
  {
   "cell_type": "code",
   "execution_count": null,
   "id": "4af8bea2",
   "metadata": {},
   "outputs": [],
   "source": [
    "#Audit Manager\n",
    "linz.audit.enable_auditing(folder=r\"c:/temp/audit\")"
   ]
  },
  {
   "cell_type": "markdown",
   "id": "be960fae",
   "metadata": {},
   "source": [
    "## Crop Layers  "
   ]
  },
  {
   "cell_type": "code",
   "execution_count": null,
   "id": "8cdbf303",
   "metadata": {},
   "outputs": [],
   "source": [
    "linz.content.crop_layers.all()"
   ]
  },
  {
   "cell_type": "code",
   "execution_count": null,
   "id": "76174485",
   "metadata": {},
   "outputs": [],
   "source": [
    "cl = linz.content.crop_layers.get(3036)\n",
    "cl"
   ]
  },
  {
   "cell_type": "code",
   "execution_count": null,
   "id": "dfb0edcf",
   "metadata": {},
   "outputs": [],
   "source": [
    "cl.filter_items(\"thames\")"
   ]
  },
  {
   "cell_type": "code",
   "execution_count": null,
   "id": "77ec7660",
   "metadata": {},
   "outputs": [],
   "source": [
    "cf = cl.get(10870 )\n",
    "feature = cf.get()\n",
    "feature.sdf"
   ]
  },
  {
   "cell_type": "markdown",
   "id": "f49391ea",
   "metadata": {},
   "source": [
    "## Layer item  \n",
    "Run some tests on a layer item  "
   ]
  },
  {
   "cell_type": "code",
   "execution_count": null,
   "id": "e3c38ecf",
   "metadata": {},
   "outputs": [],
   "source": [
    "itm = linz.content.get(geodetic_marks_layer_id)\n",
    "print(itm)"
   ]
  },
  {
   "cell_type": "code",
   "execution_count": null,
   "id": "9107018c",
   "metadata": {},
   "outputs": [],
   "source": [
    "print(f\"{itm.supports_changesets=}\")\n",
    "print(f\"{itm.data.fields=}\")\n",
    "print(f\"{itm.data.crs=}\")\n",
    "print(f\"{itm.data.geometry_type=}\")\n",
    "print(f\"{itm.data.geometry_field=}\")"
   ]
  },
  {
   "cell_type": "code",
   "execution_count": null,
   "id": "06d9defc",
   "metadata": {},
   "outputs": [],
   "source": [
    "map = GIS().map(\"New Zealand\")\n",
    "map"
   ]
  },
  {
   "cell_type": "code",
   "execution_count": null,
   "id": "6ad11ca9",
   "metadata": {},
   "outputs": [],
   "source": [
    "# read shapefile into an SDF\n",
    "matamata_sdf = pd.DataFrame.spatial.from_featureclass(\"../tests/spatial_data/matamata_piako.shp\")\n",
    "matamata_sdf.spatial.plot(map_widget=map)\n",
    "matamata_sdf.dtypes"
   ]
  },
  {
   "cell_type": "code",
   "execution_count": null,
   "id": "729cf1a1",
   "metadata": {},
   "outputs": [],
   "source": [
    "generalized_geoms = matamata_sdf[matamata_sdf.spatial.name].apply(lambda geom: geom.generalize(100))\n",
    "matamata_sdf.spatial.set_geometry(generalized_geoms, inplace=True)\n",
    "matamata_sdf.spatial.plot(map_widget=map)\n",
    "matamata_sdf.dtypes\n"
   ]
  },
  {
   "cell_type": "code",
   "execution_count": null,
   "id": "7c06b239",
   "metadata": {},
   "outputs": [],
   "source": [
    "p = matamata_sdf.spatial.bbox\n",
    "print(type(p))\n",
    "print(p.spatial_reference)\n",
    "#p = p.project_as({\"wkid\": 4326})\n",
    "p = p.project_as(4326)\n",
    "print(p.spatial_reference)"
   ]
  },
  {
   "cell_type": "code",
   "execution_count": null,
   "id": "bd8bfe7c",
   "metadata": {},
   "outputs": [],
   "source": [
    "# Query using WFS\n",
    "data = itm.query(\n",
    "    count=100,\n",
    "    out_sr=2193,\n",
    "    filter_geometry=matamata_sdf,\n",
    "    cql_filter=\"mark_condition='Reliably Placed'\",\n",
    ")\n",
    "# res = itm.query(count=100, out_sr = 2193, filter_geometry=matamata_sdf)\n",
    "# res = itm.query(count=100, out_sr = 2193, bbox=matamata_sdf)\n",
    "\n",
    "logger.info(f\"Total records returned {itm.title}: {data.sdf.shape[0]}\")\n",
    "\n",
    "data.sdf.spatial.plot(map_widget=map)\n",
    "data.sdf.head()"
   ]
  },
  {
   "cell_type": "code",
   "execution_count": null,
   "id": "72ce1e8d",
   "metadata": {},
   "outputs": [],
   "source": [
    "# Get a changeset from the layer using WFS\n",
    "# cs_data = itm.changeset(from_time=\"2024-01-01T00:00:00Z\", out_sr=2193)\n",
    "cs_data = itm.changeset(\n",
    "    from_time=\"2024-01-01T00:00:00Z\",\n",
    "    out_sr=2193,\n",
    "    filter_geometry=matamata_sdf,\n",
    "    cql_filter=\"mark_condition='Reliably Placed'\",\n",
    ")\n",
    "logging.info(f\"Total records returned {itm.title}: {cs_data.sdf.shape[0]}\")\n",
    "cs_data.sdf.head()"
   ]
  },
  {
   "cell_type": "code",
   "execution_count": null,
   "id": "92620ff3",
   "metadata": {},
   "outputs": [],
   "source": [
    "cs_data.sdf.spatial.to_featureclass(os.path.join(output_folder, \"sdf_changeset.shp\"))"
   ]
  },
  {
   "cell_type": "markdown",
   "id": "2c6546c5",
   "metadata": {},
   "source": [
    "## Export item  "
   ]
  },
  {
   "cell_type": "code",
   "execution_count": null,
   "id": "78164210",
   "metadata": {},
   "outputs": [],
   "source": [
    "#job = itm.export(\"geodatabase\", out_sr=2193, filter_geometry=matamata_sdf.spatial.bbox)\n",
    "job = itm.export(\"geodatabase\", out_sr=2193, bbox_geometry=matamata_sdf)"
   ]
  },
  {
   "cell_type": "code",
   "execution_count": null,
   "id": "c65b3d21",
   "metadata": {},
   "outputs": [],
   "source": [
    "print(job.status)"
   ]
  },
  {
   "cell_type": "code",
   "execution_count": null,
   "id": "e463f8e5",
   "metadata": {},
   "outputs": [],
   "source": [
    "dl = job.download(folder=output_folder)"
   ]
  },
  {
   "cell_type": "code",
   "execution_count": null,
   "id": "cb109b72",
   "metadata": {},
   "outputs": [],
   "source": [
    "print(f\"{dl.folder=}\")\n",
    "print(f\"{dl.filename=}\")\n",
    "print(f\"{dl.file_path=}\")\n",
    "print(f\"{dl.file_size_bytes=}\")\n",
    "print(f\"{dl.download_url=}\")\n",
    "print(f\"{dl.final_url=}\")\n",
    "print(f\"{dl.job_id=}\")\n",
    "print(f\"{dl.completed_at=}\")\n",
    "print(f\"{dl.checksum=}\")"
   ]
  },
  {
   "cell_type": "markdown",
   "id": "55e4fb08",
   "metadata": {},
   "source": [
    "## Table item  \n",
    "Run some tests on a table item"
   ]
  },
  {
   "cell_type": "code",
   "execution_count": null,
   "id": "65406819",
   "metadata": {},
   "outputs": [],
   "source": [
    "table_itm = linz.content.get(suburb_locality_table_id)\n",
    "print(table_itm)"
   ]
  },
  {
   "cell_type": "code",
   "execution_count": null,
   "id": "91c94535",
   "metadata": {},
   "outputs": [],
   "source": [
    "print(f\"{table_itm.supports_changesets=}\")\n",
    "print(f\"{table_itm.data.fields=}\")"
   ]
  },
  {
   "cell_type": "code",
   "execution_count": null,
   "id": "03112e71",
   "metadata": {},
   "outputs": [],
   "source": [
    "# Query using WFS to get DataFrame\n",
    "data = table_itm.query(count=100)\n",
    "logging.info(f\"Total records returned {table_itm.title}: {data.df.shape[0]}\")\n",
    "data.df.head()"
   ]
  },
  {
   "cell_type": "code",
   "execution_count": null,
   "id": "ef5955b3",
   "metadata": {},
   "outputs": [],
   "source": [
    "# Query using WFS to get raw JSON\n",
    "data = table_itm.query(count=10)\n",
    "logging.info(data.json)\n",
    "logging.info(f\"Total records returned {table_itm.title}: {len(data.json.get('features'))}\")\n"
   ]
  },
  {
   "cell_type": "code",
   "execution_count": null,
   "id": "6fc9fb89",
   "metadata": {},
   "outputs": [],
   "source": [
    "# Get a changeset from the layer using WFS\n",
    "cs_data = table_itm.changeset(from_time=\"2024-01-01T00:00:00Z\", count=100)\n",
    "logging.info(f\"Total records returned, JSON count, {table_itm.title}: {len(cs_data.json.get('features'))}\")\n",
    "logging.info(f\"Total records returned {table_itm.title}: {cs_data.df.shape[0]}\")\n",
    "cs_data.df.head()"
   ]
  },
  {
   "cell_type": "code",
   "execution_count": null,
   "id": "212b7602",
   "metadata": {},
   "outputs": [],
   "source": [
    "job = table_itm.export(\"geodatabase\")"
   ]
  },
  {
   "cell_type": "code",
   "execution_count": null,
   "id": "830e59c5",
   "metadata": {},
   "outputs": [],
   "source": [
    "print(job.status)"
   ]
  },
  {
   "cell_type": "code",
   "execution_count": null,
   "id": "a7d95d52",
   "metadata": {},
   "outputs": [],
   "source": [
    "job.download(folder=output_folder)"
   ]
  },
  {
   "cell_type": "markdown",
   "id": "f17b6acc",
   "metadata": {},
   "source": [
    "## Test multidownload samples  \n",
    "Test downloading multiple jobs using the ContentManager download method.    "
   ]
  },
  {
   "cell_type": "code",
   "execution_count": null,
   "id": "f3b6bef7",
   "metadata": {},
   "outputs": [],
   "source": [
    "itm1 = linz.content.get(geodetic_marks_layer_id)\n",
    "itm2 = linz.content.get(rail_station_layer_id)\n",
    "print(itm1)\n",
    "print(itm2)"
   ]
  },
  {
   "cell_type": "code",
   "execution_count": null,
   "id": "ca815c4f",
   "metadata": {},
   "outputs": [],
   "source": [
    "job1 = itm1.export(\n",
    "    \"geodatabase\",\n",
    "    out_sr=2193,\n",
    "    filter_geometry=matamata_sdf,\n",
    ")\n",
    "job2 = itm2.export(\n",
    "    \"geodatabase\",\n",
    "    out_sr=2193,\n",
    "    filter_geometry=matamata_sdf,\n",
    ")\n",
    "results = linz.content.download(jobs=[job1, job2], folder=output_folder)"
   ]
  },
  {
   "cell_type": "code",
   "execution_count": null,
   "id": "5810a1c2",
   "metadata": {},
   "outputs": [],
   "source": [
    "for result in results:\n",
    "    print(result.download_file_path)"
   ]
  }
 ],
 "metadata": {
  "kernelspec": {
   "display_name": "Python 3",
   "language": "python",
   "name": "python3"
  },
  "language_info": {
   "codemirror_mode": {
    "name": "ipython",
    "version": 3
   },
   "file_extension": ".py",
   "mimetype": "text/x-python",
   "name": "python",
   "nbconvert_exporter": "python",
   "pygments_lexer": "ipython3",
   "version": "3.11.11"
  }
 },
 "nbformat": 4,
 "nbformat_minor": 5
}
