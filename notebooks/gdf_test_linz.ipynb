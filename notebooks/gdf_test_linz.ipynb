{
 "cells": [
  {
   "cell_type": "code",
   "execution_count": null,
   "id": "e57f0245",
   "metadata": {},
   "outputs": [],
   "source": [
    "#My VS Code has issues connecting to the venv.\n",
    "# I find that first connecting to one of my conda environments\n",
    "# and then switching to the venv works.\n",
    "# I run this cell on conda environment first then switch to venv\n",
    "# and run it there and seems to be all good.\n",
    "print(\"Hello\")"
   ]
  },
  {
   "cell_type": "code",
   "execution_count": null,
   "id": "a8640a1f",
   "metadata": {},
   "outputs": [],
   "source": [
    "# This cell allows hot reloading of modules.\n",
    "# It is useful for development, so you don't have to restart the kernel.\n",
    "# Some changes such as adding new files or changing the structure of the code\n",
    "# may not be picked up and will require a kernel restart.\n",
    "%load_ext autoreload\n",
    "%autoreload 2"
   ]
  },
  {
   "cell_type": "markdown",
   "id": "cb934ce3",
   "metadata": {},
   "source": [
    "# Testing LINZ with GeoPandas  \n",
    "This notebook is for testing a python environment that has GeoPandas installed, using LINZ as the testing portal.  \n",
    "\n",
    "This notebook expects GeoPandas and not the arcgis module. This will force the default data types to use GeoDataFrames.  "
   ]
  },
  {
   "cell_type": "code",
   "execution_count": null,
   "id": "b283ef9b",
   "metadata": {},
   "outputs": [],
   "source": [
    "import os\n",
    "import json\n",
    "import time\n",
    "import geopandas as gpd\n",
    "from datetime import datetime, timezone\n",
    "from dotenv import load_dotenv, find_dotenv\n",
    "import logging\n",
    "\n",
    "# Set up logging include logger name\n",
    "logging.basicConfig(level=logging.INFO, format='%(asctime)s - %(name)s - %(levelname)s - %(message)s')\n",
    "\n",
    "from kapipy.gis import GISK\n",
    "from kapipy.gis import has_geopandas, has_arcgis, has_arcpy\n",
    "\n",
    "# find .env automagically by walking up directories until it's found\n",
    "dotenv_path = find_dotenv()\n",
    "load_dotenv(dotenv_path)\n",
    "api_key = os.getenv('LINZ_API_KEY')\n",
    "\n",
    "output_folder = r\"c:/temp/data\"\n",
    "\n",
    "#layers\n",
    "rail_station_layer_id = \"50318\" #rail station 175 points\n",
    "fences_layer_id = \"50268\" #NZ Fence Centrelines  \n",
    "geodetic_marks_layer_id = \"50787\" # NZ Geodetic Marks 132,966 point features\n",
    "nz_walking_biking_tracks_layer_id = \"52100\" #NZ Walking and Biking Tracks 29,187 polyline features\n",
    "\n",
    "#tables\n",
    "nz_building_age_table_id = \"105617\" #NZ Building Age 18 records, no changeset\n",
    "suburb_locality_table_id = \"113761\" #NZ Suburb Locality 3190 records\n",
    "\n",
    "print(f'{has_arcgis=}')\n",
    "print(f'{has_arcpy=}')\n",
    "print(f'{has_geopandas=}')\n",
    "\n",
    "assert(has_geopandas == True)\n",
    "assert(has_arcgis == False)\n"
   ]
  },
  {
   "cell_type": "markdown",
   "id": "9a030666",
   "metadata": {},
   "source": [
    "## Server object  \n",
    "Get a reference to the LINZ server  "
   ]
  },
  {
   "cell_type": "code",
   "execution_count": null,
   "id": "ea57fc48",
   "metadata": {},
   "outputs": [],
   "source": [
    "linz = GISK(name=\"linz\", api_key=api_key)\n",
    "print(linz)"
   ]
  },
  {
   "cell_type": "markdown",
   "id": "a3ad6661",
   "metadata": {},
   "source": [
    "## Audit Manager  "
   ]
  },
  {
   "cell_type": "code",
   "execution_count": null,
   "id": "50d8cebc",
   "metadata": {},
   "outputs": [],
   "source": [
    "linz.audit.enable_auditing(folder=r\"c:/temp/audit\")"
   ]
  },
  {
   "cell_type": "markdown",
   "id": "f49391ea",
   "metadata": {},
   "source": [
    "## Layer item  \n",
    "Run some tests on a layer item  "
   ]
  },
  {
   "cell_type": "code",
   "execution_count": null,
   "id": "e3c38ecf",
   "metadata": {},
   "outputs": [],
   "source": [
    "itm = linz.content.get(geodetic_marks_layer_id)\n",
    "print(itm)"
   ]
  },
  {
   "cell_type": "code",
   "execution_count": null,
   "id": "9107018c",
   "metadata": {},
   "outputs": [],
   "source": [
    "print(f'{itm.kind=}')\n",
    "print(f'{itm.type_=}')\n",
    "print(f'{itm.supports_changesets=}')\n",
    "print(f'{itm.data.fields=}')\n",
    "print(f'{itm.data.crs=}')\n",
    "print(f'{itm.data.geometry_type=}')"
   ]
  },
  {
   "cell_type": "code",
   "execution_count": null,
   "id": "6ad11ca9",
   "metadata": {},
   "outputs": [],
   "source": [
    "waikato_polygon = gpd.read_file('../tests/spatial_data/waikato.json')\n",
    "print(waikato_polygon)\n",
    "\n",
    "# read shapefile into a GeoDataFrame\n",
    "matamata_gdf = gpd.read_file(\"../tests/spatial_data/matamata_piako.shp\")\n",
    "matamata_gdf.head()"
   ]
  },
  {
   "cell_type": "code",
   "execution_count": null,
   "id": "bd8bfe7c",
   "metadata": {},
   "outputs": [],
   "source": [
    "#Query using WFS and bbox_geometry\n",
    "res = itm.query(\n",
    "    result_record_count=1001,\n",
    "    out_fields=['id', 'geodetic_code'],\n",
    "    out_sr = 2193, \n",
    "    bbox_geometry=matamata_gdf)\n",
    "logging.info(f\"Total records returned {itm.title}: {res.shape[0]}\")\n",
    "res.head()"
   ]
  },
  {
   "cell_type": "code",
   "execution_count": null,
   "id": "ef710268",
   "metadata": {},
   "outputs": [],
   "source": [
    "#Query using WFS and filter_geometry\n",
    "res = itm.query(\n",
    "    #out_fields=['id', 'geodetic_code', itm.data.geometry_field],\n",
    "    out_sr = 2193, \n",
    "    filter_geometry=matamata_gdf)\n",
    "logging.info(f\"Total records returned {itm.title}: {res.shape[0]}\")\n",
    "res.head()"
   ]
  },
  {
   "cell_type": "code",
   "execution_count": null,
   "id": "71a90069",
   "metadata": {},
   "outputs": [],
   "source": [
    "#Query using WFS and bbox_geometry\n",
    "res = itm.query(\n",
    "    out_sr = 2193, \n",
    "    bbox_geometry=matamata_gdf)\n",
    "logging.info(f\"Total records returned {itm.title}: {res.shape[0]}\")\n",
    "res.head()"
   ]
  },
  {
   "cell_type": "markdown",
   "id": "584a6a9e",
   "metadata": {},
   "source": [
    "## Layer - Changeset  "
   ]
  },
  {
   "cell_type": "code",
   "execution_count": null,
   "id": "60a41f79",
   "metadata": {},
   "outputs": [],
   "source": [
    "last_download_record = linz.audit.get_latest_request_for_item(itm.id, request_type=None)\n",
    "last_download_record"
   ]
  },
  {
   "cell_type": "code",
   "execution_count": null,
   "id": "72ce1e8d",
   "metadata": {},
   "outputs": [],
   "source": [
    "# Get a changeset from the layer using WFS and bbox_geometry\n",
    "#sample_datetime = \"2024-01-01T00:00:00Z\"\n",
    "cs_data = itm.changeset(\n",
    "    from_time=last_download_record['request_time'], \n",
    "    #from_time='2024-06-17T07:16:43.905175',\n",
    "    out_sr=2193,\n",
    "    #out_fields=['id', 'geodetic_code'],\n",
    "    bbox_geometry=matamata_gdf\n",
    "    )\n",
    "logging.info(f\"Total records returned {itm.title}: {cs_data.shape[0]}\")\n",
    "cs_data.head()"
   ]
  },
  {
   "cell_type": "code",
   "execution_count": null,
   "id": "b9cbdbdd",
   "metadata": {},
   "outputs": [],
   "source": [
    "# Get a changeset from the layer using WFS and filter_geometry\n",
    "cs_data = itm.changeset(\n",
    "    from_time=\"2024-01-01T00:00:00Z\", \n",
    "    out_sr=2193,\n",
    "    #out_fields=['id', 'geodetic_code'],\n",
    "    filter_geometry=matamata_gdf\n",
    "    )\n",
    "logging.info(f\"Total records returned {itm.title}: {cs_data.shape[0]}\")\n",
    "cs_data.head()"
   ]
  },
  {
   "cell_type": "code",
   "execution_count": null,
   "id": "78164210",
   "metadata": {},
   "outputs": [],
   "source": [
    "job = itm.export(\"geodatabase\", out_sr=2193, filter_geometry=matamata_gdf)"
   ]
  },
  {
   "cell_type": "code",
   "execution_count": null,
   "id": "c65b3d21",
   "metadata": {},
   "outputs": [],
   "source": [
    "print(job.status)"
   ]
  },
  {
   "cell_type": "code",
   "execution_count": null,
   "id": "e463f8e5",
   "metadata": {},
   "outputs": [],
   "source": [
    "dl = job.download(folder=output_folder)\n",
    "print(dl)"
   ]
  },
  {
   "cell_type": "code",
   "execution_count": null,
   "id": "cb109b72",
   "metadata": {},
   "outputs": [],
   "source": [
    "print(f'{dl.folder=}')\n",
    "print(f'{dl.filename=}')\n",
    "print(f'{dl.file_path=}')\n",
    "print(f'{dl.file_size_bytes=}')\n",
    "print(f'{dl.download_url=}')\n",
    "print(f'{dl.final_url=}')\n",
    "print(f'{dl.job_id=}')\n",
    "print(f'{dl.completed_at=}')\n",
    "print(f'{dl.checksum=}')"
   ]
  },
  {
   "cell_type": "markdown",
   "id": "55e4fb08",
   "metadata": {},
   "source": [
    "## Table item  \n",
    "Run some tests on a table item"
   ]
  },
  {
   "cell_type": "code",
   "execution_count": null,
   "id": "65406819",
   "metadata": {},
   "outputs": [],
   "source": [
    "table_itm = linz.content.get(suburb_locality_table_id)\n",
    "print(table_itm)"
   ]
  },
  {
   "cell_type": "code",
   "execution_count": null,
   "id": "91c94535",
   "metadata": {},
   "outputs": [],
   "source": [
    "print(f'{table_itm.supports_changesets=}')\n",
    "print(f'{table_itm.data.fields=}')"
   ]
  },
  {
   "cell_type": "code",
   "execution_count": null,
   "id": "03112e71",
   "metadata": {},
   "outputs": [],
   "source": [
    "#Query using WFS to get DataFrame\n",
    "data = table_itm.query(count=100)\n",
    "logging.info(f\"Total records returned {table_itm.title}: {data.shape[0]}\")\n",
    "data.head()"
   ]
  },
  {
   "cell_type": "code",
   "execution_count": null,
   "id": "ef5955b3",
   "metadata": {},
   "outputs": [],
   "source": [
    "#Query using WFS to get raw JSON\n",
    "data = table_itm.query_json(count=10)\n",
    "logging.info(f\"Total records returned {table_itm.title}: {len(data['features'])}\")\n",
    "print(data)"
   ]
  },
  {
   "cell_type": "code",
   "execution_count": null,
   "id": "6fc9fb89",
   "metadata": {},
   "outputs": [],
   "source": [
    "# Get a changeset from the layer using WFS\n",
    "cs_data = table_itm.get_changeset(from_time=\"2024-01-01T00:00:00Z\", count=100)\n",
    "logging.info(f\"Total records returned {table_itm.title}: {cs_data.shape[0]}\")\n",
    "cs_data.head()"
   ]
  },
  {
   "cell_type": "code",
   "execution_count": null,
   "id": "01d5cd06",
   "metadata": {},
   "outputs": [],
   "source": [
    "# Get a changeset from the layer using WFS\n",
    "cs_data = table_itm.get_changeset_json(from_time=\"2024-01-01T00:00:00Z\", count=10)\n",
    "logging.info(f\"Total records returned {table_itm.title}: {len(cs_data['features'])}\")\n",
    "print(cs_data)"
   ]
  },
  {
   "cell_type": "code",
   "execution_count": null,
   "id": "212b7602",
   "metadata": {},
   "outputs": [],
   "source": [
    "job = table_itm.export(\"geodatabase\")"
   ]
  },
  {
   "cell_type": "code",
   "execution_count": null,
   "id": "830e59c5",
   "metadata": {},
   "outputs": [],
   "source": [
    "print(job.status)"
   ]
  },
  {
   "cell_type": "code",
   "execution_count": null,
   "id": "a7d95d52",
   "metadata": {},
   "outputs": [],
   "source": [
    "dl = job.download(folder=output_folder)\n",
    "print(dl)"
   ]
  },
  {
   "cell_type": "markdown",
   "id": "f17b6acc",
   "metadata": {},
   "source": [
    "## Test multidownload samples  \n",
    "Test downloading multiple jobs using the ContentManager download method.    "
   ]
  },
  {
   "cell_type": "code",
   "execution_count": null,
   "id": "f3b6bef7",
   "metadata": {},
   "outputs": [],
   "source": [
    "itm1 = linz.content.get(geodetic_marks_layer_id)\n",
    "itm2 = linz.content.get(rail_station_layer_id)\n",
    "print(itm1)\n",
    "print(itm2)"
   ]
  },
  {
   "cell_type": "code",
   "execution_count": null,
   "id": "ca815c4f",
   "metadata": {},
   "outputs": [],
   "source": [
    "job1 = itm1.export(\"geodatabase\", wkid=2193, filter_geometry=matamata_gdf,)\n",
    "job2 = itm2.export(\"geodatabase\", wkid=2193, filter_geometry=matamata_gdf,)\n",
    "\n",
    "output_folder = r\"c:\\temp\\data\\multiple\"\n",
    "results = linz.content.download(jobs=[job1, job2], folder=output_folder)"
   ]
  },
  {
   "cell_type": "code",
   "execution_count": null,
   "id": "5810a1c2",
   "metadata": {},
   "outputs": [],
   "source": [
    "for result in results:\n",
    "    print(result.download_file_path)\n"
   ]
  }
 ],
 "metadata": {
  "kernelspec": {
   "display_name": ".venv",
   "language": "python",
   "name": "python3"
  },
  "language_info": {
   "codemirror_mode": {
    "name": "ipython",
    "version": 3
   },
   "file_extension": ".py",
   "mimetype": "text/x-python",
   "name": "python",
   "nbconvert_exporter": "python",
   "pygments_lexer": "ipython3",
   "version": "3.13.3"
  }
 },
 "nbformat": 4,
 "nbformat_minor": 5
}
