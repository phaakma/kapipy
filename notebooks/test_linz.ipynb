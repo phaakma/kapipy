{
 "cells": [
  {
   "cell_type": "code",
   "execution_count": 1,
   "id": "e57f0245",
   "metadata": {},
   "outputs": [
    {
     "name": "stdout",
     "output_type": "stream",
     "text": [
      "Hello\n"
     ]
    }
   ],
   "source": [
    "#My VS Code has issues connecting to the venv.\n",
    "# I find that first connecting to one of my conda environments\n",
    "# and then switching to the venv works.\n",
    "# I run this cell on conda environment first then switch to venv\n",
    "# and run it there and seems to be all good.\n",
    "print(\"Hello\")"
   ]
  },
  {
   "cell_type": "code",
   "execution_count": 2,
   "id": "a8640a1f",
   "metadata": {},
   "outputs": [],
   "source": [
    "# This cell allows hot reloading of modules.\n",
    "# It is useful for development, so you don't have to restart the kernel.\n",
    "# Some changes such as adding new files or changing the structure of the code\n",
    "# may not be picked up and will require a kernel restart.\n",
    "%load_ext autoreload\n",
    "%autoreload 2"
   ]
  },
  {
   "cell_type": "code",
   "execution_count": 3,
   "id": "b283ef9b",
   "metadata": {},
   "outputs": [],
   "source": [
    "import os\n",
    "import json\n",
    "import time\n",
    "import geopandas as gpd\n",
    "from dotenv import load_dotenv, find_dotenv\n",
    "import logging\n",
    "\n",
    "# Set up logging include logger name\n",
    "logging.basicConfig(level=logging.INFO, format='%(asctime)s - %(name)s - %(levelname)s - %(message)s')\n",
    "\n",
    "from kapipy.gis import GIS\n",
    "\n",
    "#import pandas as pd\n",
    "#from arcgis.features import GeoAccessor, GeoSeriesAccessor\n",
    "\n",
    "# find .env automagically by walking up directories until it's found\n",
    "dotenv_path = find_dotenv()\n",
    "load_dotenv(dotenv_path)\n",
    "api_key = os.getenv('LINZ_API_KEY')\n",
    "\n",
    "#layers\n",
    "rail_station_layer_id = \"50318\" #rail station 175 points\n",
    "fences_layer_id = \"50268\" #NZ Fence Centrelines  \n",
    "geodetic_marks_layer_id = \"50787\" # NZ Geodetic Marks 132,966 point features\n",
    "nz_walking_biking_tracks_layer_id = \"52100\" #NZ Walking and Biking Tracks 29,187 polyline features\n",
    "\n",
    "#tables\n",
    "nz_building_age_table_id = \"105617\" #NZ Building Age 18 records, no changeset\n",
    "suburb_locality_table_id = \"113761\" #NZ Suburb Locality 3190 records\n",
    "\n",
    "output_folder = r\"c:\\temp\\data\"\n"
   ]
  },
  {
   "cell_type": "markdown",
   "id": "9a030666",
   "metadata": {},
   "source": [
    "## Server object  \n",
    "Get a reference to the LINZ server  "
   ]
  },
  {
   "cell_type": "code",
   "execution_count": 4,
   "id": "ea57fc48",
   "metadata": {},
   "outputs": [
    {
     "name": "stdout",
     "output_type": "stream",
     "text": [
      "GIS: LINZ at https://data.linz.govt.nz/ (API v1.x)\n"
     ]
    }
   ],
   "source": [
    "linz = GIS(name=\"linz\", api_key=api_key)\n",
    "print(linz)"
   ]
  },
  {
   "cell_type": "markdown",
   "id": "f49391ea",
   "metadata": {},
   "source": [
    "## Layer item  \n",
    "Run some tests on a layer item  "
   ]
  },
  {
   "cell_type": "code",
   "execution_count": 5,
   "id": "e3c38ecf",
   "metadata": {},
   "outputs": [
    {
     "name": "stderr",
     "output_type": "stream",
     "text": [
      "2025-06-08 09:54:35,002 - httpx - INFO - HTTP Request: GET https://data.linz.govt.nz/services/api/v1.x/data/?id=50318 \"HTTP/1.1 200 OK\"\n",
      "2025-06-08 09:54:35,578 - httpx - INFO - HTTP Request: GET https://data.linz.govt.nz/services/api/v1.x/layers/50318/ \"HTTP/1.1 200 OK\"\n"
     ]
    },
    {
     "name": "stdout",
     "output_type": "stream",
     "text": [
      "VectorItem(id=50318, url='https://data.linz.govt.nz/services/api/v1.x/layers/50318/', type_='layer', title='NZ Rail Station Points (Topo, 1:50k)', description=\"A point on a railway line used for the picking up and setting down of passengers or freight\\n\\nData Dictionary for rail_station_pnt: https://docs.topo.linz.govt.nz/data-dictionary/tdd-class-rail_station_pnt.html\\n\\nThis layer is a component of the Topo50 map series. The Topo50 map series provides topographic mapping for the New Zealand mainland, Chatham and New Zealand's offshore islands, at 1:50,000 scale.\\n\\nFurther information on Topo50: \\nhttp://www.linz.govt.nz/topography/topo-maps/topo50\", data=VectorItemData(storage='classic', datasources='https://data.linz.govt.nz/services/api/v1.x/layers/50318/versions/412263/datasources/', fields=[FieldDef(name='GEOMETRY', type_='geometry'), FieldDef(name='t50_fid', type_='bigint'), FieldDef(name='name_ascii', type_='string'), FieldDef(name='macronated', type_='string'), FieldDef(name='name', type_='string')], encoding='utf-8', primary_key_fields=['t50_fid'], source_revision=None, omitted_fields=[], tile_revision=420810, feature_count=175, datasource_count=1, change_summary=ChangeSummary(inserted=0, updated=0, deleted=1, schema_changes=ChangeSummarySchema(added=[], changed=[], removed=[], srid_changed=False, geometry_type_changed=False, primary_keys_changed=False)), source_summary='https://data.linz.govt.nz/services/api/v1.x/layers/50318/versions/412263/data/source-summary/', import_started_at='2025-04-28T00:37:25.795608Z', import_ended_at='2025-04-28T00:37:44.604656Z', import_log=ImportLog(invalid_geometries=0, messages=0, url='https://data.linz.govt.nz/services/api/v1.x/layers/50318/versions/412263/data/import-log/'), import_version='https://data.linz.govt.nz/services/api/v1.x/layers/50318/versions/412263/', update_available=False, sample='https://data.linz.govt.nz/services/api/v1.x/layers/50318/versions/412263/data/sample/', raster_resolution=None, empty_geometry_count=0, has_z=False, export_formats=[ExportFormat(name='Shapefile', mimetype='application/x-zipped-shp'), ExportFormat(name='MapInfo TAB', mimetype='application/x-ogc-mapinfo_file'), ExportFormat(name='MapInfo MIF', mimetype='application/x-ogc-mapinfo_file+mif'), ExportFormat(name='CSV', mimetype='text/csv'), ExportFormat(name='GeoPackage / SQLite', mimetype='application/x-ogc-gpkg'), ExportFormat(name='Geodatabase', mimetype='applicaton/x-ogc-filegdb'), ExportFormat(name='KML', mimetype='application/vnd.google-earth.kml+xml'), ExportFormat(name='DWG', mimetype='image/vnd.dwg'), ExportFormat(name='PDF', mimetype='application/pdf')], crs=CRS(id='EPSG:2193', url='https://data.linz.govt.nz/services/api/v1.x/coordinate-systems/EPSG:2193/', name='NZGD2000 / New Zealand Transverse Mercator 2000', kind='projected', unit_horizontal='metre', unit_vertical='', url_external='https://epsg.io/2193', component_horizontal=None, component_vertical=None, srid=2193), geometry_field='GEOMETRY', geometry_type='point', extent={'type': 'Polygon', 'coordinates': [[[168.34507549494757, -35.36073901363476], [178.02080184894365, -35.36073901363476], [178.02080184894365, -46.41182991173551], [168.34507549494757, -46.41182991173551], [168.34507549494757, -35.36073901363476]]]}), services='https://data.linz.govt.nz/services/api/v1.x/layers/50318/services/', kind='vector', categories=[{'name': 'Transport', 'slug': 'transport', 'key': 'topographic/nz-topo-50-data/transport', 'url': 'https://data.linz.govt.nz/services/api/v1.x/categories/topographic/nz-topo-50-data/transport/', 'ancestors': [{'name': 'Topographic', 'slug': 'topographic', 'key': 'topographic', 'url': 'https://data.linz.govt.nz/services/api/v1.x/categories/topographic/'}, {'name': 'NZ Topo 50 Data', 'slug': 'nz-topo-50-data', 'key': 'topographic/nz-topo-50-data', 'url': 'https://data.linz.govt.nz/services/api/v1.x/categories/topographic/nz-topo-50-data/'}]}], tags=['New Zealand'], created_at='2011-05-22T06:04:42.159249Z', license={'id': 171, 'title': 'Creative Commons Attribution 4.0 International', 'type': 'cc-by', 'jurisdiction': '', 'version': '4.0', 'url': 'https://data.linz.govt.nz/services/api/v1.x/licenses/171/', 'url_html': 'https://data.linz.govt.nz/license/attribution-4-0-international/', 'url_fulltext': 'https://data.linz.govt.nz/services/api/v1.x/licenses/171/fulltext/'}, metadata={'resource': 'https://data.linz.govt.nz/services/api/v1.x/sources/126603/metadata-resources/2993/', 'native': 'https://data.linz.govt.nz/services/api/v1.x/layers/50318/versions/412263/metadata/', 'iso': 'https://data.linz.govt.nz/services/api/v1.x/layers/50318/versions/412263/metadata/iso/', 'dc': 'https://data.linz.govt.nz/services/api/v1.x/layers/50318/versions/412263/metadata/dc/'}, num_views=11254, num_downloads=2408)\n"
     ]
    }
   ],
   "source": [
    "itm = linz.content.get(rail_station_layer_id)\n",
    "print(itm)"
   ]
  },
  {
   "cell_type": "code",
   "execution_count": 6,
   "id": "9107018c",
   "metadata": {},
   "outputs": [
    {
     "name": "stderr",
     "output_type": "stream",
     "text": [
      "2025-06-08 09:54:37,172 - httpx - INFO - HTTP Request: GET https://data.linz.govt.nz/services/api/v1.x/layers/50318/services/ \"HTTP/1.1 200 OK\"\n"
     ]
    },
    {
     "name": "stdout",
     "output_type": "stream",
     "text": [
      "itm.supports_changesets=True\n",
      "itm.data.fields=[FieldDef(name='GEOMETRY', type_='geometry'), FieldDef(name='t50_fid', type_='bigint'), FieldDef(name='name_ascii', type_='string'), FieldDef(name='macronated', type_='string'), FieldDef(name='name', type_='string')]\n",
      "itm.data.crs=CRS(id='EPSG:2193', url='https://data.linz.govt.nz/services/api/v1.x/coordinate-systems/EPSG:2193/', name='NZGD2000 / New Zealand Transverse Mercator 2000', kind='projected', unit_horizontal='metre', unit_vertical='', url_external='https://epsg.io/2193', component_horizontal=None, component_vertical=None, srid=2193)\n",
      "itm.data.geometry_type='point'\n"
     ]
    }
   ],
   "source": [
    "print(f'{itm.supports_changesets=}')\n",
    "print(f'{itm.data.fields=}')\n",
    "print(f'{itm.data.crs=}')\n",
    "print(f'{itm.data.geometry_type=}')"
   ]
  },
  {
   "cell_type": "code",
   "execution_count": null,
   "id": "06d9defc",
   "metadata": {},
   "outputs": [],
   "source": [
    "itm.data.fields[0]"
   ]
  },
  {
   "cell_type": "code",
   "execution_count": null,
   "id": "6ad11ca9",
   "metadata": {},
   "outputs": [],
   "source": [
    "waikato_polygon = gpd.read_file('../examples/waikato.json')\n",
    "print(waikato_polygon)\n",
    "\n",
    "# read shapefile into a GeoDataFrame\n",
    "matamata_gdf = gpd.read_file(\"../examples/matamata_piako.shp\")\n",
    "matamata_gdf.head()"
   ]
  },
  {
   "cell_type": "code",
   "execution_count": null,
   "id": "40831811",
   "metadata": {},
   "outputs": [],
   "source": [
    "ext_sdf = pd.DataFrame.spatial.from_featureclass( \"C:\\\\projects\\\\playground\\\\playground.gdb\\\\extent\" )\n",
    "ext_sdf.info()"
   ]
  },
  {
   "cell_type": "code",
   "execution_count": null,
   "id": "bd8bfe7c",
   "metadata": {},
   "outputs": [],
   "source": [
    "#Query using WFS\n",
    "res = itm.query(count=100, wkid = 2193)\n",
    "logging.info(f\"Total records returned {itm.title}: {res.shape[0]}\")\n",
    "res.head()"
   ]
  },
  {
   "cell_type": "code",
   "execution_count": null,
   "id": "b884f7e3",
   "metadata": {},
   "outputs": [],
   "source": [
    "res.spatial.full_extent"
   ]
  },
  {
   "cell_type": "code",
   "execution_count": null,
   "id": "049f3e9e",
   "metadata": {},
   "outputs": [],
   "source": [
    "res.spatial.to_featureclass(os.path.join(output_folder, 'sdf.shp'))"
   ]
  },
  {
   "cell_type": "code",
   "execution_count": 8,
   "id": "72ce1e8d",
   "metadata": {},
   "outputs": [
    {
     "name": "stderr",
     "output_type": "stream",
     "text": [
      "2025-06-08 09:55:03,266 - kapipy.conversion - INFO - Getting default output format.\n",
      "2025-06-08 09:55:03,266 - kapipy.conversion - INFO - has_arcgis=False\n",
      "2025-06-08 09:55:03,267 - kapipy.conversion - INFO - has_geopandas=True\n",
      "2025-06-08 09:55:03,578 - root - INFO - Total records returned NZ Rail Station Points (Topo, 1:50k): 41\n"
     ]
    },
    {
     "data": {
      "text/html": [
       "<div>\n",
       "<style scoped>\n",
       "    .dataframe tbody tr th:only-of-type {\n",
       "        vertical-align: middle;\n",
       "    }\n",
       "\n",
       "    .dataframe tbody tr th {\n",
       "        vertical-align: top;\n",
       "    }\n",
       "\n",
       "    .dataframe thead th {\n",
       "        text-align: right;\n",
       "    }\n",
       "</style>\n",
       "<table border=\"1\" class=\"dataframe\">\n",
       "  <thead>\n",
       "    <tr style=\"text-align: right;\">\n",
       "      <th></th>\n",
       "      <th>__change__</th>\n",
       "      <th>t50_fid</th>\n",
       "      <th>name_ascii</th>\n",
       "      <th>macronated</th>\n",
       "      <th>name</th>\n",
       "      <th>geometry</th>\n",
       "    </tr>\n",
       "  </thead>\n",
       "  <tbody>\n",
       "    <tr>\n",
       "      <th>0</th>\n",
       "      <td>DELETE</td>\n",
       "      <td>7874343</td>\n",
       "      <td>Swanson Station</td>\n",
       "      <td>N</td>\n",
       "      <td>Swanson Station</td>\n",
       "      <td>POINT (1740542.406 5918801.891)</td>\n",
       "    </tr>\n",
       "    <tr>\n",
       "      <th>1</th>\n",
       "      <td>DELETE</td>\n",
       "      <td>7874348</td>\n",
       "      <td>Kingsland</td>\n",
       "      <td>N</td>\n",
       "      <td>Kingsland</td>\n",
       "      <td>POINT (1755495.158 5917850.878)</td>\n",
       "    </tr>\n",
       "    <tr>\n",
       "      <th>2</th>\n",
       "      <td>DELETE</td>\n",
       "      <td>2462509</td>\n",
       "      <td>Sawyers Bay Station</td>\n",
       "      <td>N</td>\n",
       "      <td>Sawyers Bay Station</td>\n",
       "      <td>POINT (1413934.937 4922988.347)</td>\n",
       "    </tr>\n",
       "    <tr>\n",
       "      <th>3</th>\n",
       "      <td>DELETE</td>\n",
       "      <td>6455509</td>\n",
       "      <td>Sheffield</td>\n",
       "      <td>N</td>\n",
       "      <td>Sheffield</td>\n",
       "      <td>POINT (1520561.716 5195578.8)</td>\n",
       "    </tr>\n",
       "    <tr>\n",
       "      <th>4</th>\n",
       "      <td>DELETE</td>\n",
       "      <td>2462550</td>\n",
       "      <td>Seddon Station</td>\n",
       "      <td>N</td>\n",
       "      <td>Seddon Station</td>\n",
       "      <td>POINT (1689445.201 5385956.321)</td>\n",
       "    </tr>\n",
       "  </tbody>\n",
       "</table>\n",
       "</div>"
      ],
      "text/plain": [
       "  __change__  t50_fid           name_ascii macronated                 name  \\\n",
       "0     DELETE  7874343      Swanson Station          N      Swanson Station   \n",
       "1     DELETE  7874348            Kingsland          N            Kingsland   \n",
       "2     DELETE  2462509  Sawyers Bay Station          N  Sawyers Bay Station   \n",
       "3     DELETE  6455509            Sheffield          N            Sheffield   \n",
       "4     DELETE  2462550       Seddon Station          N       Seddon Station   \n",
       "\n",
       "                          geometry  \n",
       "0  POINT (1740542.406 5918801.891)  \n",
       "1  POINT (1755495.158 5917850.878)  \n",
       "2  POINT (1413934.937 4922988.347)  \n",
       "3    POINT (1520561.716 5195578.8)  \n",
       "4  POINT (1689445.201 5385956.321)  "
      ]
     },
     "execution_count": 8,
     "metadata": {},
     "output_type": "execute_result"
    }
   ],
   "source": [
    "# Get a changeset from the layer using WFS\n",
    "cs_data = itm.changeset(from_time=\"2024-01-01T00:00:00Z\", wkid=2193 )\n",
    "logging.info(f\"Total records returned {itm.title}: {cs_data.shape[0]}\")\n",
    "cs_data.head()"
   ]
  },
  {
   "cell_type": "code",
   "execution_count": null,
   "id": "92620ff3",
   "metadata": {},
   "outputs": [],
   "source": [
    "cs_data.spatial.to_featureclass(os.path.join(output_folder, 'sdf_changeset.shp'))"
   ]
  },
  {
   "cell_type": "code",
   "execution_count": null,
   "id": "3683205e",
   "metadata": {},
   "outputs": [],
   "source": [
    "ext_sdf.spatial.geometry_type"
   ]
  },
  {
   "cell_type": "code",
   "execution_count": null,
   "id": "78164210",
   "metadata": {},
   "outputs": [],
   "source": [
    "job = itm.export(\"geodatabase\", wkid=2193, extent=ext_sdf)"
   ]
  },
  {
   "cell_type": "code",
   "execution_count": null,
   "id": "c65b3d21",
   "metadata": {},
   "outputs": [],
   "source": [
    "print(job.status)"
   ]
  },
  {
   "cell_type": "code",
   "execution_count": null,
   "id": "e463f8e5",
   "metadata": {},
   "outputs": [],
   "source": [
    "dl = job.download(folder=output_folder)"
   ]
  },
  {
   "cell_type": "code",
   "execution_count": null,
   "id": "cb109b72",
   "metadata": {},
   "outputs": [],
   "source": [
    "print(f'{dl.folder=}')\n",
    "print(f'{dl.filename=}')\n",
    "print(f'{dl.file_path=}')\n",
    "print(f'{dl.file_size_bytes=}')\n",
    "print(f'{dl.download_url=}')\n",
    "print(f'{dl.final_url=}')\n",
    "print(f'{dl.job_id=}')\n",
    "print(f'{dl.completed_at=}')\n",
    "print(f'{dl.checksum=}')"
   ]
  },
  {
   "cell_type": "markdown",
   "id": "55e4fb08",
   "metadata": {},
   "source": [
    "## Table item  \n",
    "Run some tests on a table item"
   ]
  },
  {
   "cell_type": "code",
   "execution_count": null,
   "id": "65406819",
   "metadata": {},
   "outputs": [],
   "source": [
    "table_itm = linz.content.get(suburb_locality_table_id)\n",
    "print(table_itm)"
   ]
  },
  {
   "cell_type": "code",
   "execution_count": null,
   "id": "91c94535",
   "metadata": {},
   "outputs": [],
   "source": [
    "print(f'{table_itm.supports_changesets=}')\n",
    "print(f'{table_itm.data.fields=}')"
   ]
  },
  {
   "cell_type": "code",
   "execution_count": null,
   "id": "03112e71",
   "metadata": {},
   "outputs": [],
   "source": [
    "#Query using WFS to get DataFrame\n",
    "data = table_itm.query(count=100)\n",
    "logging.info(f\"Total records returned {table_itm.title}: {data.shape[0]}\")\n",
    "data.head()"
   ]
  },
  {
   "cell_type": "code",
   "execution_count": null,
   "id": "ef5955b3",
   "metadata": {},
   "outputs": [],
   "source": [
    "#Query using WFS to get raw JSON\n",
    "data = table_itm.query_json(count=10)\n",
    "logging.info(f\"Total records returned {table_itm.title}: {len(data['features'])}\")\n",
    "print(data)"
   ]
  },
  {
   "cell_type": "code",
   "execution_count": null,
   "id": "6fc9fb89",
   "metadata": {},
   "outputs": [],
   "source": [
    "# Get a changeset from the layer using WFS\n",
    "cs_data = table_itm.get_changeset(from_time=\"2024-01-01T00:00:00Z\", count=100)\n",
    "logging.info(f\"Total records returned {table_itm.title}: {cs_data.shape[0]}\")\n",
    "cs_data.head()"
   ]
  },
  {
   "cell_type": "code",
   "execution_count": null,
   "id": "01d5cd06",
   "metadata": {},
   "outputs": [],
   "source": [
    "# Get a changeset from the layer using WFS\n",
    "cs_data = table_itm.get_changeset_json(from_time=\"2024-01-01T00:00:00Z\", count=10)\n",
    "logging.info(f\"Total records returned {table_itm.title}: {len(cs_data['features'])}\")\n",
    "print(cs_data)"
   ]
  },
  {
   "cell_type": "code",
   "execution_count": null,
   "id": "212b7602",
   "metadata": {},
   "outputs": [],
   "source": [
    "job = table_itm.export(\"geodatabase\")"
   ]
  },
  {
   "cell_type": "code",
   "execution_count": null,
   "id": "830e59c5",
   "metadata": {},
   "outputs": [],
   "source": [
    "print(job)"
   ]
  },
  {
   "cell_type": "code",
   "execution_count": null,
   "id": "a7d95d52",
   "metadata": {},
   "outputs": [],
   "source": [
    "job.download(folder=output_folder)"
   ]
  },
  {
   "cell_type": "markdown",
   "id": "f17b6acc",
   "metadata": {},
   "source": [
    "## Test multidownload samples  \n",
    "Test downloading multiple jobs using the ContentManager download method.    "
   ]
  },
  {
   "cell_type": "code",
   "execution_count": null,
   "id": "f3b6bef7",
   "metadata": {},
   "outputs": [],
   "source": [
    "itm1 = linz.content.get(geodetic_marks_layer_id)\n",
    "itm2 = linz.content.get(rail_station_layer_id)\n",
    "print(itm1)\n",
    "print(itm2)"
   ]
  },
  {
   "cell_type": "code",
   "execution_count": null,
   "id": "ca815c4f",
   "metadata": {},
   "outputs": [],
   "source": [
    "job1 = itm1.export(\"geodatabase\", crs=\"EPSG:2193\", extent=matamata_gdf,)\n",
    "job2 = itm2.export(\"geodatabase\", crs=\"EPSG:2193\", extent=matamata_gdf,)\n",
    "\n",
    "output_folder = r\"c:\\temp\\data\\multiple\"\n",
    "results = linz.content.download(jobs=[job1, job2], folder=output_folder)"
   ]
  },
  {
   "cell_type": "code",
   "execution_count": null,
   "id": "5810a1c2",
   "metadata": {},
   "outputs": [],
   "source": [
    "for result in results:\n",
    "    print(result.download_file_path)\n"
   ]
  }
 ],
 "metadata": {
  "kernelspec": {
   "display_name": ".venv",
   "language": "python",
   "name": "python3"
  },
  "language_info": {
   "codemirror_mode": {
    "name": "ipython",
    "version": 3
   },
   "file_extension": ".py",
   "mimetype": "text/x-python",
   "name": "python",
   "nbconvert_exporter": "python",
   "pygments_lexer": "ipython3",
   "version": "3.13.3"
  }
 },
 "nbformat": 4,
 "nbformat_minor": 5
}
