{
 "cells": [
  {
   "cell_type": "code",
   "execution_count": null,
   "id": "e57f0245",
   "metadata": {},
   "outputs": [],
   "source": [
    "#My VS Code has issues connecting to the venv.\n",
    "# I find that first connecting to one of my conda environments\n",
    "# and then switching to the venv works.\n",
    "# I run this cell on conda environment first then switch to venv\n",
    "# and run it there and seems to be all good.\n",
    "print(\"Hello\")"
   ]
  },
  {
   "cell_type": "code",
   "execution_count": null,
   "id": "a8640a1f",
   "metadata": {},
   "outputs": [],
   "source": [
    "# This cell allows hot reloading of modules.\n",
    "# It is useful for development, so you don't have to restart the kernel.\n",
    "# Some changes such as adding new files or changing the structure of the code\n",
    "# may not be picked up and will require a kernel restart.\n",
    "%load_ext autoreload\n",
    "%autoreload 2"
   ]
  },
  {
   "cell_type": "code",
   "execution_count": null,
   "id": "b283ef9b",
   "metadata": {},
   "outputs": [],
   "source": [
    "import os\n",
    "import requests\n",
    "import time\n",
    "from dotenv import load_dotenv, find_dotenv\n",
    "import logging\n",
    "\n",
    "# Set up logging include logger name\n",
    "logging.basicConfig(level=logging.INFO, format='%(asctime)s - %(name)s - %(levelname)s - %(message)s')\n",
    "\n",
    "from kapipy.gis import GIS\n",
    "from kapipy.gis import has_geopandas, has_arcgis, has_arcpy\n",
    "\n",
    "if has_arcgis:\n",
    "    import pandas as pd\n",
    "    from arcgis.features import GeoAccessor, GeoSeriesAccessor\n",
    "\n",
    "# find .env automagically by walking up directories until it's found\n",
    "dotenv_path = find_dotenv()\n",
    "load_dotenv(dotenv_path)\n",
    "api_key = os.getenv('LRIS_API_KEY')\n",
    "\n",
    "output_folder = r\"c:\\temp\\data\"\n",
    "\n",
    "#layers\n",
    "lcdb_layer_id = \"104400\" #Land Cover Database - 511,104 polygons\n",
    "nzlri_layer_id = \"48066\" #NZLRI Soils - 63,516 polygons\n",
    "mpi_slmacc_layer_id = \"48574\" # MPI SLMACC Auger and Tacit Soil Observations, 672 points\n",
    "\n",
    "#tables - there are no tables in the LRIS portal!\n",
    "\n",
    "print(f'{has_arcgis=}')\n",
    "print(f'{has_arcpy=}')\n",
    "print(f'{has_geopandas=}')\n",
    "\n",
    "assert(has_geopandas == False)\n",
    "assert(has_arcgis == True)"
   ]
  },
  {
   "cell_type": "markdown",
   "id": "9a030666",
   "metadata": {},
   "source": [
    "## Server object  \n",
    "Get a reference to the LRIS server  "
   ]
  },
  {
   "cell_type": "code",
   "execution_count": null,
   "id": "ea57fc48",
   "metadata": {},
   "outputs": [],
   "source": [
    "lris = GIS(name=\"lris\", api_key=api_key)\n",
    "print(lris)"
   ]
  },
  {
   "cell_type": "markdown",
   "id": "f49391ea",
   "metadata": {},
   "source": [
    "## Layer item  \n",
    "Run some tests on a layer item  "
   ]
  },
  {
   "cell_type": "code",
   "execution_count": null,
   "id": "e3c38ecf",
   "metadata": {},
   "outputs": [],
   "source": [
    "itm = lris.content.get(lcdb_layer_id)\n",
    "print(itm)"
   ]
  },
  {
   "cell_type": "code",
   "execution_count": null,
   "id": "c66c4502",
   "metadata": {},
   "outputs": [],
   "source": [
    "print(f'{itm.supports_changesets=}')\n",
    "print(f'{itm.data.fields=}')\n",
    "print(f'{itm.data.crs=}')\n",
    "print(f'{itm.data.geometry_type=}')"
   ]
  },
  {
   "cell_type": "code",
   "execution_count": null,
   "id": "6ad11ca9",
   "metadata": {},
   "outputs": [],
   "source": [
    "# read shapefile into an SDF\n",
    "matamata_sdf = pd.DataFrame.spatial.from_featureclass(\"../examples/matamata_piako.shp\")\n",
    "print(matamata_sdf.spatial.geometry_type)\n",
    "matamata_sdf.head()"
   ]
  },
  {
   "cell_type": "code",
   "execution_count": null,
   "id": "9af9b578",
   "metadata": {},
   "outputs": [],
   "source": [
    "#Query using WFS\n",
    "res = itm.query(count=100, out_sr=2193, bbox=matamata_sdf)\n",
    "logging.info(f\"Total records returned {itm.title}: {res.shape[0]}\")\n",
    "res.head()"
   ]
  },
  {
   "cell_type": "code",
   "execution_count": null,
   "id": "3683205e",
   "metadata": {},
   "outputs": [],
   "source": [
    "job = itm.export(\"geodatabase\", out_sr=2193, extent=matamata_sdf,)"
   ]
  },
  {
   "cell_type": "code",
   "execution_count": null,
   "id": "c65b3d21",
   "metadata": {},
   "outputs": [],
   "source": [
    "print(job)"
   ]
  },
  {
   "cell_type": "code",
   "execution_count": null,
   "id": "e463f8e5",
   "metadata": {},
   "outputs": [],
   "source": [
    "dl = job.download(folder=output_folder)"
   ]
  },
  {
   "cell_type": "code",
   "execution_count": null,
   "id": "cb109b72",
   "metadata": {},
   "outputs": [],
   "source": [
    "print(f'{dl.folder=}')\n",
    "print(f'{dl.filename=}')\n",
    "print(f'{dl.file_path=}')\n",
    "print(f'{dl.file_size_bytes=}')\n",
    "print(f'{dl.download_url=}')\n",
    "print(f'{dl.final_url=}')\n",
    "print(f'{dl.job_id=}')\n",
    "print(f'{dl.completed_at=}')\n",
    "print(f'{dl.checksum=}')"
   ]
  },
  {
   "cell_type": "markdown",
   "id": "f17b6acc",
   "metadata": {},
   "source": [
    "## Test multidownload samples  \n",
    "Test downloading multiple jobs using the ContentManager download method.    "
   ]
  },
  {
   "cell_type": "code",
   "execution_count": null,
   "id": "700f7446",
   "metadata": {},
   "outputs": [],
   "source": [
    "itm1 = lris.content.get(lcdb_layer_id)\n",
    "itm2 = lris.content.get(nzlri_layer_id)\n",
    "print(itm1)\n",
    "print(itm2)"
   ]
  },
  {
   "cell_type": "code",
   "execution_count": null,
   "id": "d23126b6",
   "metadata": {},
   "outputs": [],
   "source": [
    "job1 = itm1.export(\"geodatabase\", out_sr=2193, extent=matamata_sdf,)\n",
    "job2 = itm2.export(\"geodatabase\", out_sr=2193, extent=matamata_sdf,)\n",
    "\n",
    "results = lris.content.download(jobs=[job1, job2], folder=output_folder)"
   ]
  },
  {
   "cell_type": "code",
   "execution_count": null,
   "id": "dd7c9dc2",
   "metadata": {},
   "outputs": [],
   "source": [
    "for result in results:\n",
    "    print(result.download_file_path)"
   ]
  }
 ],
 "metadata": {
  "kernelspec": {
   "display_name": "arcgispro-py3-kapipy",
   "language": "python",
   "name": "python3"
  },
  "language_info": {
   "codemirror_mode": {
    "name": "ipython",
    "version": 3
   },
   "file_extension": ".py",
   "mimetype": "text/x-python",
   "name": "python",
   "nbconvert_exporter": "python",
   "pygments_lexer": "ipython3",
   "version": "3.11.11"
  }
 },
 "nbformat": 4,
 "nbformat_minor": 5
}
