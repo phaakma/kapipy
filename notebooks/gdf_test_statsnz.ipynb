{
 "cells": [
  {
   "cell_type": "code",
   "execution_count": null,
   "id": "e57f0245",
   "metadata": {},
   "outputs": [],
   "source": [
    "#My VS Code has issues connecting to the venv.\n",
    "# I find that first connecting to one of my conda environments\n",
    "# and then switching to the venv works.\n",
    "# I run this cell on conda environment first then switch to venv\n",
    "# and run it there and seems to be all good.\n",
    "print(\"Hello\")"
   ]
  },
  {
   "cell_type": "code",
   "execution_count": null,
   "id": "a8640a1f",
   "metadata": {},
   "outputs": [],
   "source": [
    "# This cell allows hot reloading of modules.\n",
    "# It is useful for development, so you don't have to restart the kernel.\n",
    "# Some changes such as adding new files or changing the structure of the code\n",
    "# may not be picked up and will require a kernel restart.\n",
    "%load_ext autoreload\n",
    "%autoreload 2"
   ]
  },
  {
   "cell_type": "code",
   "execution_count": null,
   "id": "b283ef9b",
   "metadata": {},
   "outputs": [],
   "source": [
    "import os\n",
    "import time\n",
    "import geopandas as gpd\n",
    "from dotenv import load_dotenv, find_dotenv\n",
    "import logging\n",
    "\n",
    "# Set up logging include logger name\n",
    "logging.basicConfig(level=logging.INFO, format='%(asctime)s - %(name)s - %(levelname)s - %(message)s')\n",
    "\n",
    "from kapipy.gis import GISK\n",
    "\n",
    "# find .env automagically by walking up directories until it's found\n",
    "dotenv_path = find_dotenv()\n",
    "load_dotenv(dotenv_path)\n",
    "api_key = os.getenv('STATS_API_KEY')\n",
    "\n",
    "output_folder = r\"c:\\temp\\data\"\n",
    "\n",
    "#layers\n",
    "meshblock2022_centroid_layer_id = \"106716\"  #Meshblock 2022 (Centroid True) - 56,966 points\n",
    "territorial_authority2025_layer_id = \"120963\" #Territorial Authority 2025 - 68 polygons\n",
    "\n",
    "#tables\n",
    "current_geographic_boundaries_table_id = \"114916\" # Current Geographic Boundaries Table - 44 Rows"
   ]
  },
  {
   "cell_type": "markdown",
   "id": "9a030666",
   "metadata": {},
   "source": [
    "## Server object  \n",
    "Get a reference to the LINZ server  "
   ]
  },
  {
   "cell_type": "code",
   "execution_count": null,
   "id": "ea57fc48",
   "metadata": {},
   "outputs": [],
   "source": [
    "statsnz = GISK(name=\"statsnz\", api_key=api_key)\n",
    "print(statsnz)"
   ]
  },
  {
   "cell_type": "markdown",
   "id": "f49391ea",
   "metadata": {},
   "source": [
    "## Layer item  \n",
    "Run some tests on a layer item  "
   ]
  },
  {
   "cell_type": "code",
   "execution_count": null,
   "id": "e3c38ecf",
   "metadata": {},
   "outputs": [],
   "source": [
    "itm = statsnz.content.get(meshblock2022_centroid_layer_id)\n",
    "print(itm)"
   ]
  },
  {
   "cell_type": "code",
   "execution_count": null,
   "id": "1348f8b8",
   "metadata": {},
   "outputs": [],
   "source": [
    "print(f'{itm.supports_changesets=}')\n",
    "print(f'{itm.data.fields=}')\n",
    "print(f'{itm.data.crs=}')\n",
    "print(f'{itm.data.geometry_type=}')"
   ]
  },
  {
   "cell_type": "code",
   "execution_count": null,
   "id": "6ad11ca9",
   "metadata": {},
   "outputs": [],
   "source": [
    "waikato_polygon = gpd.read_file('../tests/spatial_data/waikato.json')\n",
    "print(waikato_polygon)\n",
    "\n",
    "# read shapefile into a GeoDataFrame\n",
    "matamata_gdf = gpd.read_file(\"../tests/spatial_data/matamata_piako.shp\")\n",
    "matamata_gdf.head()"
   ]
  },
  {
   "cell_type": "code",
   "execution_count": null,
   "id": "9af9b578",
   "metadata": {},
   "outputs": [],
   "source": [
    "#Query using WFS\n",
    "res = itm.query(count=100, out_sr=2193, bbox=matamata_gdf)\n",
    "logging.info(f\"Total records returned {itm.title}: {res.shape[0]}\")\n",
    "res.head()"
   ]
  },
  {
   "cell_type": "code",
   "execution_count": null,
   "id": "3683205e",
   "metadata": {},
   "outputs": [],
   "source": [
    "job = itm.export(\"geodatabase\", out_sr=2193, extent=matamata_gdf,)"
   ]
  },
  {
   "cell_type": "code",
   "execution_count": null,
   "id": "c65b3d21",
   "metadata": {},
   "outputs": [],
   "source": [
    "print(job)"
   ]
  },
  {
   "cell_type": "code",
   "execution_count": null,
   "id": "e463f8e5",
   "metadata": {},
   "outputs": [],
   "source": [
    "dl = job.download(folder=output_folder)"
   ]
  },
  {
   "cell_type": "code",
   "execution_count": null,
   "id": "cb109b72",
   "metadata": {},
   "outputs": [],
   "source": [
    "print(f'{dl.folder=}')\n",
    "print(f'{dl.filename=}')\n",
    "print(f'{dl.file_path=}')\n",
    "print(f'{dl.file_size_bytes=}')\n",
    "print(f'{dl.download_url=}')\n",
    "print(f'{dl.final_url=}')\n",
    "print(f'{dl.job_id=}')\n",
    "print(f'{dl.completed_at=}')\n",
    "print(f'{dl.checksum=}')"
   ]
  },
  {
   "cell_type": "markdown",
   "id": "55e4fb08",
   "metadata": {},
   "source": [
    "## Table item  \n",
    "Run some tests on a table item"
   ]
  },
  {
   "cell_type": "code",
   "execution_count": null,
   "id": "65406819",
   "metadata": {},
   "outputs": [],
   "source": [
    "table_itm = statsnz.content.get(current_geographic_boundaries_table_id)\n",
    "print(table_itm)\n",
    "print(f'{table_itm.supports_changesets=}')"
   ]
  },
  {
   "cell_type": "code",
   "execution_count": null,
   "id": "03112e71",
   "metadata": {},
   "outputs": [],
   "source": [
    "#Query using WFS to get DataFrame\n",
    "data = table_itm.query(count=100)\n",
    "logging.info(f\"Total records returned {table_itm.title}: {data.shape[0]}\")\n",
    "data.head()"
   ]
  },
  {
   "cell_type": "code",
   "execution_count": null,
   "id": "ef5955b3",
   "metadata": {},
   "outputs": [],
   "source": [
    "#Query using WFS to get raw JSON\n",
    "data = table_itm.query_json(count=10)\n",
    "logging.info(f\"Total records returned {table_itm.title}: {len(data['features'])}\")\n",
    "print(data)"
   ]
  },
  {
   "cell_type": "code",
   "execution_count": null,
   "id": "212b7602",
   "metadata": {},
   "outputs": [],
   "source": [
    "job = table_itm.export(\"geodatabase\")"
   ]
  },
  {
   "cell_type": "code",
   "execution_count": null,
   "id": "830e59c5",
   "metadata": {},
   "outputs": [],
   "source": [
    "print(job)"
   ]
  },
  {
   "cell_type": "code",
   "execution_count": null,
   "id": "a7d95d52",
   "metadata": {},
   "outputs": [],
   "source": [
    "output_folder = r\"c:\\temp\\data\"\n",
    "dl = job.download(folder=output_folder)"
   ]
  },
  {
   "cell_type": "code",
   "execution_count": null,
   "id": "b4564e24",
   "metadata": {},
   "outputs": [],
   "source": [
    "print(f'{dl.folder=}')\n",
    "print(f'{dl.filename=}')\n",
    "print(f'{dl.file_path=}')\n",
    "print(f'{dl.file_size_bytes=}')\n",
    "print(f'{dl.download_url=}')\n",
    "print(f'{dl.final_url=}')\n",
    "print(f'{dl.job_id=}')\n",
    "print(f'{dl.completed_at=}')\n",
    "print(f'{dl.checksum=}')"
   ]
  },
  {
   "cell_type": "markdown",
   "id": "f17b6acc",
   "metadata": {},
   "source": [
    "## Test multidownload samples  \n",
    "Test downloading multiple jobs using the ContentManager download method.    "
   ]
  },
  {
   "cell_type": "code",
   "execution_count": null,
   "id": "700f7446",
   "metadata": {},
   "outputs": [],
   "source": [
    "itm1 = statsnz.content.get(meshblock2022_centroid_layer_id)\n",
    "itm2 = statsnz.content.get(territorial_authority2025_layer_id)\n",
    "print(itm1)\n",
    "print(itm2)"
   ]
  },
  {
   "cell_type": "code",
   "execution_count": null,
   "id": "d23126b6",
   "metadata": {},
   "outputs": [],
   "source": [
    "job1 = itm1.export(\"geodatabase\", out_sr=2193, extent=matamata_gdf,)\n",
    "job2 = itm2.export(\"geodatabase\", out_sr=2193, extent=matamata_gdf,)\n",
    "\n",
    "output_folder = r\"c:\\temp\\data\\multiple\"\n",
    "results = statsnz.content.download(jobs=[job1, job2], folder=output_folder)"
   ]
  },
  {
   "cell_type": "code",
   "execution_count": null,
   "id": "dd7c9dc2",
   "metadata": {},
   "outputs": [],
   "source": [
    "for result in results:\n",
    "    print(result.download_file_path)\n"
   ]
  }
 ],
 "metadata": {
  "kernelspec": {
   "display_name": ".venv",
   "language": "python",
   "name": "python3"
  },
  "language_info": {
   "codemirror_mode": {
    "name": "ipython",
    "version": 3
   },
   "file_extension": ".py",
   "mimetype": "text/x-python",
   "name": "python",
   "nbconvert_exporter": "python",
   "pygments_lexer": "ipython3",
   "version": "3.13.3"
  }
 },
 "nbformat": 4,
 "nbformat_minor": 5
}
